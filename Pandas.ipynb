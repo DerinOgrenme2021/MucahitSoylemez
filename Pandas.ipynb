{
  "nbformat": 4,
  "nbformat_minor": 0,
  "metadata": {
    "colab": {
      "name": "Pandas.ipynb",
      "provenance": [],
      "collapsed_sections": [],
      "authorship_tag": "ABX9TyMav8HafpRAa7lezx3/Z0fD",
      "include_colab_link": true
    },
    "kernelspec": {
      "name": "python3",
      "display_name": "Python 3"
    },
    "language_info": {
      "name": "python"
    }
  },
  "cells": [
    {
      "cell_type": "markdown",
      "metadata": {
        "id": "view-in-github",
        "colab_type": "text"
      },
      "source": [
        "<a href=\"https://colab.research.google.com/github/DerinOgrenme2021/MucahitSoylemez/blob/main/Pandas.ipynb\" target=\"_parent\"><img src=\"https://colab.research.google.com/assets/colab-badge.svg\" alt=\"Open In Colab\"/></a>"
      ]
    },
    {
      "cell_type": "code",
      "metadata": {
        "id": "Z8hUQ_X7ATFj"
      },
      "source": [
        "// Pandas ile örnekler"
      ],
      "execution_count": null,
      "outputs": []
    },
    {
      "cell_type": "code",
      "metadata": {
        "colab": {
          "base_uri": "https://localhost:8080/",
          "height": 35
        },
        "id": "L3C-X3OyCIZ2",
        "outputId": "3a88fad3-bdfb-47e6-def8-60f40af69758"
      },
      "source": [
        "import numpy as np\n",
        "import pandas as pd\n",
        "\n",
        "pd.__version__"
      ],
      "execution_count": 7,
      "outputs": [
        {
          "output_type": "execute_result",
          "data": {
            "application/vnd.google.colaboratory.intrinsic+json": {
              "type": "string"
            },
            "text/plain": [
              "'1.1.5'"
            ]
          },
          "metadata": {
            "tags": []
          },
          "execution_count": 7
        }
      ]
    },
    {
      "cell_type": "code",
      "metadata": {
        "id": "LFxVgIBPFpYm"
      },
      "source": [
        "names = pd.Series([\"Mucahit\",\"Ali\",\"Selim\"])"
      ],
      "execution_count": 10,
      "outputs": []
    },
    {
      "cell_type": "code",
      "metadata": {
        "colab": {
          "base_uri": "https://localhost:8080/"
        },
        "id": "ICH8zvWDF5Ge",
        "outputId": "dd953ef9-5c1e-46ce-c5e7-f0b0b9f9e4ea"
      },
      "source": [
        "print(names)"
      ],
      "execution_count": 12,
      "outputs": [
        {
          "output_type": "stream",
          "text": [
            "0    Mucahit\n",
            "1        Ali\n",
            "2      Selim\n",
            "dtype: object\n"
          ],
          "name": "stdout"
        }
      ]
    },
    {
      "cell_type": "code",
      "metadata": {
        "id": "1Nl8YXyAGHQo"
      },
      "source": [
        "ages = pd.Series([25,45,63])"
      ],
      "execution_count": 13,
      "outputs": []
    },
    {
      "cell_type": "code",
      "metadata": {
        "colab": {
          "base_uri": "https://localhost:8080/"
        },
        "id": "DWxt3nLyGL8n",
        "outputId": "a8c8fe92-f813-4870-9357-f98ebe39a82a"
      },
      "source": [
        "print(ages)"
      ],
      "execution_count": 14,
      "outputs": [
        {
          "output_type": "stream",
          "text": [
            "0    25\n",
            "1    45\n",
            "2    63\n",
            "dtype: int64\n"
          ],
          "name": "stdout"
        }
      ]
    },
    {
      "cell_type": "code",
      "metadata": {
        "id": "qp-_QD4UGNyF"
      },
      "source": [
        "df = pd.DataFrame({\"Name\":names, \"age\":ages})"
      ],
      "execution_count": 16,
      "outputs": []
    },
    {
      "cell_type": "code",
      "metadata": {
        "colab": {
          "base_uri": "https://localhost:8080/"
        },
        "id": "PmQ3SxlUGVv4",
        "outputId": "522ab1fe-413e-4872-e20b-97458c1f206e"
      },
      "source": [
        "print(df)"
      ],
      "execution_count": 17,
      "outputs": [
        {
          "output_type": "stream",
          "text": [
            "      Name  age\n",
            "0  Mucahit   25\n",
            "1      Ali   45\n",
            "2    Selim   63\n"
          ],
          "name": "stdout"
        }
      ]
    },
    {
      "cell_type": "markdown",
      "metadata": {
        "id": "R2BFiUP8CJyp"
      },
      "source": [
        "# Yeni Bölüm"
      ]
    }
  ]
}