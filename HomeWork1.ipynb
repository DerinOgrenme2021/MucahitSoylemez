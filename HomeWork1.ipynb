{
  "nbformat": 4,
  "nbformat_minor": 0,
  "metadata": {
    "colab": {
      "name": "HomeWork1.ipynb",
      "provenance": [],
      "authorship_tag": "ABX9TyNnWGA3XpVJsY4RWATvN6Qj",
      "include_colab_link": true
    },
    "kernelspec": {
      "name": "python3",
      "display_name": "Python 3"
    },
    "language_info": {
      "name": "python"
    }
  },
  "cells": [
    {
      "cell_type": "markdown",
      "metadata": {
        "id": "view-in-github",
        "colab_type": "text"
      },
      "source": [
        "<a href=\"https://colab.research.google.com/github/DerinOgrenme2021/MucahitSoylemez/blob/main/HomeWork1.ipynb\" target=\"_parent\"><img src=\"https://colab.research.google.com/assets/colab-badge.svg\" alt=\"Open In Colab\"/></a>"
      ]
    },
    {
      "cell_type": "code",
      "metadata": {
        "id": "jHKKrmFaHEdi"
      },
      "source": [
        "import os\n",
        "import numpy as np\n",
        "from skimage import io\n",
        "import cv2\n",
        "\n",
        "result = (((250, 250,3)));\n",
        "imageResult = np.zeros(result, dtype=np.float64);\n",
        "\n",
        "imageOfFiles = list()\n",
        "\n",
        "# .jpg dosyaları aynı klasörde olması gerekiyor.\n",
        "for file in os.listdir():\n",
        "    if '.jpg' in file:\n",
        "        imageOfFiles.append(file)\n",
        "\n",
        "for image in imageOfFiles:\n",
        "    img = cv2.imread(image)\n",
        "    imageResult = imageResult + img.astype('float')\n",
        "\n",
        "averageResult = imageResult / 100\n",
        "io.imsave(\"result.png\", averageResult)\n",
        "print(averageResult)\n",
        "\n",
        "\n",
        "\n"
      ],
      "execution_count": null,
      "outputs": []
    }
  ]
}